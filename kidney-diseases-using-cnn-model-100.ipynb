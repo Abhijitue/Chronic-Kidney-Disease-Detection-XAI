{
 "cells": [
  {
   "cell_type": "code",
   "execution_count": null,
   "metadata": {
    "_cell_guid": "b1076dfc-b9ad-4769-8c92-a6c4dae69d19",
    "_uuid": "8f2839f25d086af736a60e9eeb907d3b93b6e0e5",
    "execution": {
     "iopub.execute_input": "2024-02-16T21:42:25.291292Z",
     "iopub.status.busy": "2024-02-16T21:42:25.29088Z",
     "iopub.status.idle": "2024-02-16T21:42:35.883946Z",
     "shell.execute_reply": "2024-02-16T21:42:35.882927Z",
     "shell.execute_reply.started": "2024-02-16T21:42:25.291261Z"
    }
   },
   "outputs": [],
   "source": [
    "import os\n",
    "for dirname, _, filenames in os.walk('dataset/'):\n",
    "    for filename in filenames:\n",
    "        os.path.join(dirname, filename)"
   ]
  },
  {
   "cell_type": "code",
   "execution_count": null,
   "metadata": {
    "execution": {
     "iopub.execute_input": "2024-02-16T21:42:43.04039Z",
     "iopub.status.busy": "2024-02-16T21:42:43.040029Z",
     "iopub.status.idle": "2024-02-16T21:43:02.762755Z",
     "shell.execute_reply": "2024-02-16T21:43:02.761961Z",
     "shell.execute_reply.started": "2024-02-16T21:42:43.040343Z"
    }
   },
   "outputs": [],
   "source": [
    "import pandas as pd\n",
    "import numpy as np\n",
    "import keras\n",
    "import warnings\n",
    "warnings.filterwarnings(action=\"ignore\")\n",
    "import matplotlib.pyplot as plt\n",
    "%matplotlib inline\n",
    "\n",
    "from keras.models import Sequential\n",
    "from keras.layers import Dense, Dropout, Flatten\n",
    "from keras.layers import Conv2D, MaxPooling2D\n",
    "from keras import backend as K\n",
    "\n",
    "from sklearn.preprocessing import StandardScaler\n",
    "from sklearn.model_selection import train_test_split\n",
    "from sklearn.metrics import classification_report\n",
    "import tensorflow as tf\n",
    "from tensorflow import keras\n",
    "from tensorflow.keras.models import Sequential\n",
    "from tensorflow.keras.layers import Conv2D, MaxPooling2D, Flatten, Dense\n",
    "from tensorflow.keras.applications.vgg19 import VGG19\n",
    "from tensorflow.keras.optimizers import Adam\n",
    "from tensorflow.keras.losses import SparseCategoricalCrossentropy\n",
    "from keras.preprocessing.image import ImageDataGenerator\n",
    "from tensorflow.keras.callbacks import TensorBoard,EarlyStopping\n",
    "\n",
    "import sklearn.metrics as metrics\n",
    "from keras.callbacks import LearningRateScheduler\n",
    "from keras.preprocessing.image import ImageDataGenerator\n",
    "annealer = LearningRateScheduler(lambda x: 1e-3 * 0.95 ** x, verbose=0)"
   ]
  },
  {
   "cell_type": "code",
   "execution_count": null,
   "metadata": {
    "execution": {
     "iopub.execute_input": "2024-02-16T21:43:12.562201Z",
     "iopub.status.busy": "2024-02-16T21:43:12.561107Z",
     "iopub.status.idle": "2024-02-16T21:43:12.567968Z",
     "shell.execute_reply": "2024-02-16T21:43:12.567012Z",
     "shell.execute_reply.started": "2024-02-16T21:43:12.562167Z"
    }
   },
   "outputs": [],
   "source": [
    "import os\n",
    "import pandas as pd\n",
    "\n",
    "Cyst_dir = [ r'dataset/CT-KIDNEY-DATASET-Normal-Cyst-Tumor-Stone/Cyst']\n",
    "\n",
    "Normal_dirs = [\n",
    "    r'dataset/CT-KIDNEY-DATASET-Normal-Cyst-Tumor-Stone/Normal'\n",
    "]\n",
    "\n",
    "Stone_dirs = [\n",
    "    r'dataset/CT-KIDNEY-DATASET-Normal-Cyst-Tumor-Stone/Stone'\n",
    "]\n",
    "\n",
    "Tumor_dirs = [\n",
    "    r'dataset/CT-KIDNEY-DATASET-Normal-Cyst-Tumor-Stone/Tumor'\n",
    "]\n",
    "\n",
    "filepaths = []\n",
    "labels = []\n",
    "dict_lists = [Cyst_dir, Normal_dirs,Stone_dirs, Tumor_dirs]\n",
    "class_labels = ['Cyst', 'Normal', 'Stone', 'Tumor']"
   ]
  },
  {
   "cell_type": "code",
   "execution_count": null,
   "metadata": {
    "execution": {
     "iopub.execute_input": "2024-02-16T21:43:23.514224Z",
     "iopub.status.busy": "2024-02-16T21:43:23.513867Z",
     "iopub.status.idle": "2024-02-16T21:43:23.599328Z",
     "shell.execute_reply": "2024-02-16T21:43:23.598419Z",
     "shell.execute_reply.started": "2024-02-16T21:43:23.514197Z"
    }
   },
   "outputs": [],
   "source": [
    "for i, dir_list in enumerate(dict_lists):\n",
    "    for j in dir_list:\n",
    "        flist = os.listdir(j)\n",
    "        for f in flist:\n",
    "            fpath = os.path.join(j, f)\n",
    "            filepaths.append(fpath)\n",
    "            labels.append(class_labels[i])\n",
    "\n",
    "Fseries = pd.Series(filepaths, name=\"filepaths\")\n",
    "Lseries = pd.Series(labels, name=\"labels\")\n",
    "KIDNEY_data = pd.concat([Fseries, Lseries], axis=1)\n",
    "KIDNEY_df = pd.DataFrame(KIDNEY_data)\n",
    "print(KIDNEY_df.head())\n",
    "print(KIDNEY_df[\"labels\"].value_counts())"
   ]
  },
  {
   "cell_type": "code",
   "execution_count": null,
   "metadata": {
    "execution": {
     "iopub.execute_input": "2024-02-16T21:43:35.759749Z",
     "iopub.status.busy": "2024-02-16T21:43:35.759032Z",
     "iopub.status.idle": "2024-02-16T21:43:35.766526Z",
     "shell.execute_reply": "2024-02-16T21:43:35.765634Z",
     "shell.execute_reply.started": "2024-02-16T21:43:35.759715Z"
    }
   },
   "outputs": [],
   "source": [
    "KIDNEY_df.shape"
   ]
  },
  {
   "cell_type": "code",
   "execution_count": null,
   "metadata": {
    "execution": {
     "iopub.execute_input": "2024-02-16T21:43:52.722148Z",
     "iopub.status.busy": "2024-02-16T21:43:52.721509Z",
     "iopub.status.idle": "2024-02-16T21:43:52.732346Z",
     "shell.execute_reply": "2024-02-16T21:43:52.731402Z",
     "shell.execute_reply.started": "2024-02-16T21:43:52.722117Z"
    }
   },
   "outputs": [],
   "source": [
    "train_images, test_images = train_test_split(KIDNEY_df, test_size=0.3, random_state=42)\n",
    "train_set, val_set = train_test_split(KIDNEY_df, test_size=0.2, random_state=42)"
   ]
  },
  {
   "cell_type": "code",
   "execution_count": null,
   "metadata": {
    "execution": {
     "iopub.execute_input": "2024-02-16T21:43:58.214171Z",
     "iopub.status.busy": "2024-02-16T21:43:58.213331Z",
     "iopub.status.idle": "2024-02-16T21:43:58.219051Z",
     "shell.execute_reply": "2024-02-16T21:43:58.217983Z",
     "shell.execute_reply.started": "2024-02-16T21:43:58.214135Z"
    }
   },
   "outputs": [],
   "source": [
    "print(train_set.shape)\n",
    "print(test_images.shape)\n",
    "print(val_set.shape)\n",
    "print(train_images.shape)"
   ]
  },
  {
   "cell_type": "code",
   "execution_count": null,
   "metadata": {
    "execution": {
     "iopub.execute_input": "2024-02-16T21:44:14.671193Z",
     "iopub.status.busy": "2024-02-16T21:44:14.670806Z",
     "iopub.status.idle": "2024-02-16T21:44:30.696421Z",
     "shell.execute_reply": "2024-02-16T21:44:30.695495Z",
     "shell.execute_reply.started": "2024-02-16T21:44:14.671163Z"
    }
   },
   "outputs": [],
   "source": [
    "image_gen = ImageDataGenerator(preprocessing_function= tf.keras.applications.mobilenet_v2.preprocess_input)\n",
    "train = image_gen.flow_from_dataframe(dataframe= train_set,x_col=\"filepaths\",y_col=\"labels\",\n",
    "                                      target_size=(244,244),\n",
    "                                      color_mode='rgb',\n",
    "                                      class_mode=\"categorical\", \n",
    "                                      batch_size=8,\n",
    "                                      shuffle=False            \n",
    "                                     )\n",
    "test = image_gen.flow_from_dataframe(dataframe= test_images,x_col=\"filepaths\", y_col=\"labels\",\n",
    "                                     target_size=(244,244),\n",
    "                                     color_mode='rgb',\n",
    "                                     class_mode=\"categorical\",\n",
    "                                     batch_size=8,\n",
    "                                     shuffle= False\n",
    "                                    )\n",
    "val = image_gen.flow_from_dataframe(dataframe= val_set,x_col=\"filepaths\", y_col=\"labels\",\n",
    "                                    target_size=(244,244),\n",
    "                                    color_mode= 'rgb',\n",
    "                                    class_mode=\"categorical\",\n",
    "                                    batch_size=8,\n",
    "                                    shuffle=False\n",
    "                                   )6"
   ]
  },
  {
   "cell_type": "code",
   "execution_count": null,
   "metadata": {
    "execution": {
     "iopub.execute_input": "2024-02-16T21:44:45.545943Z",
     "iopub.status.busy": "2024-02-16T21:44:45.545252Z",
     "iopub.status.idle": "2024-02-16T21:44:45.550395Z",
     "shell.execute_reply": "2024-02-16T21:44:45.549419Z",
     "shell.execute_reply.started": "2024-02-16T21:44:45.545911Z"
    }
   },
   "outputs": [],
   "source": [
    "classes=list(train.class_indices.keys())\n",
    "print (classes)"
   ]
  },
  {
   "cell_type": "code",
   "execution_count": null,
   "metadata": {
    "execution": {
     "iopub.execute_input": "2024-02-16T21:45:10.795681Z",
     "iopub.status.busy": "2024-02-16T21:45:10.795322Z",
     "iopub.status.idle": "2024-02-16T21:45:11.73228Z",
     "shell.execute_reply": "2024-02-16T21:45:11.73142Z",
     "shell.execute_reply.started": "2024-02-16T21:45:10.795653Z"
    }
   },
   "outputs": [],
   "source": [
    "def show_KIDNEY_images(image_gen):\n",
    "    test_dict = test.class_indices\n",
    "    classes = list(test_dict.keys())\n",
    "    images, labels=next(image_gen) # get a sample batch from the generator\n",
    "    plt.figure(figsize=(20,20))\n",
    "    length = len(labels)\n",
    "    if length<25:\n",
    "        r=length\n",
    "    else:\n",
    "        r=25\n",
    "    for i in range(r):\n",
    "        plt.subplot(5,5,i+1)\n",
    "        image=(images[i]+1)/2 #scale images between 0 and 1\n",
    "        plt.imshow(image)\n",
    "        index=np.argmax(labels[i])\n",
    "        class_name=classes[index]\n",
    "        plt.title(class_name, color=\"green\",fontsize=16)\n",
    "        plt.axis('off')\n",
    "    plt.show()\n",
    "show_KIDNEY_images(train)"
   ]
  },
  {
   "cell_type": "code",
   "execution_count": null,
   "metadata": {
    "execution": {
     "iopub.execute_input": "2024-02-16T21:45:22.867049Z",
     "iopub.status.busy": "2024-02-16T21:45:22.8667Z",
     "iopub.status.idle": "2024-02-16T21:45:24.331303Z",
     "shell.execute_reply": "2024-02-16T21:45:24.328312Z",
     "shell.execute_reply.started": "2024-02-16T21:45:22.867022Z"
    }
   },
   "outputs": [],
   "source": [
    "model = keras.models.Sequential([\n",
    "    keras.layers.Conv2D(filters=128, kernel_size=(8, 8), strides=(3, 3), activation='relu', input_shape=(224, 224, 3)),\n",
    "    keras.layers.BatchNormalization(),\n",
    "    \n",
    "    keras.layers.Conv2D(filters=256, kernel_size=(5, 5), strides=(1, 1), activation='relu', padding=\"same\"),\n",
    "    keras.layers.BatchNormalization(),\n",
    "    keras.layers.MaxPool2D(pool_size=(3, 3)),\n",
    "    \n",
    "    keras.layers.Conv2D(filters=256, kernel_size=(3, 3), strides=(1, 1), activation='relu', padding=\"same\"),\n",
    "    keras.layers.BatchNormalization(),\n",
    "    keras.layers.Conv2D(filters=256, kernel_size=(1, 1), strides=(1, 1), activation='relu', padding=\"same\"),\n",
    "    keras.layers.BatchNormalization(),\n",
    "    keras.layers.Conv2D(filters=256, kernel_size=(1, 1), strides=(1, 1), activation='relu', padding=\"same\"),\n",
    "    keras.layers.BatchNormalization(),\n",
    "    \n",
    "    keras.layers.Conv2D(filters=512, kernel_size=(3, 3), activation='relu', padding=\"same\"),\n",
    "    keras.layers.BatchNormalization(),\n",
    "    keras.layers.MaxPool2D(pool_size=(2, 2)),\n",
    "    \n",
    "    keras.layers.Conv2D(filters=512, kernel_size=(3, 3), activation='relu', padding=\"same\"),\n",
    "    keras.layers.BatchNormalization(),\n",
    "    \n",
    "    keras.layers.Conv2D(filters=512, kernel_size=(3, 3), activation='relu', padding=\"same\"),\n",
    "    keras.layers.BatchNormalization(),\n",
    "    \n",
    "    keras.layers.MaxPool2D(pool_size=(2, 2)),\n",
    "    \n",
    "    keras.layers.Conv2D(filters=512, kernel_size=(3, 3), activation='relu', padding=\"same\"),\n",
    "    keras.layers.BatchNormalization(),\n",
    "    \n",
    "    keras.layers.MaxPool2D(pool_size=(2, 2)),\n",
    "    \n",
    "    keras.layers.Flatten(),\n",
    "    keras.layers.Dense(1024, activation='relu'),\n",
    "    keras.layers.Dropout(0.5),\n",
    "    keras.layers.Dense(1024, activation='relu'),\n",
    "    keras.layers.Dropout(0.5),\n",
    "    keras.layers.Dense(4, activation='softmax')\n",
    "])\n",
    "\n",
    "model.compile(\n",
    "    loss='categorical_crossentropy',\n",
    "    optimizer=tf.optimizers.SGD(learning_rate=0.001),\n",
    "    metrics=['accuracy']\n",
    ")\n",
    "\n",
    "model.summary()"
   ]
  },
  {
   "cell_type": "code",
   "execution_count": null,
   "metadata": {
    "execution": {
     "iopub.execute_input": "2024-02-16T21:45:36.142403Z",
     "iopub.status.busy": "2024-02-16T21:45:36.141399Z",
     "iopub.status.idle": "2024-02-16T21:45:36.765581Z",
     "shell.execute_reply": "2024-02-16T21:45:36.764717Z",
     "shell.execute_reply.started": "2024-02-16T21:45:36.142363Z"
    }
   },
   "outputs": [],
   "source": [
    "from keras.utils import plot_model\n",
    "\n",
    "plot_model(model, to_file='model_plot.png', show_shapes=True, show_layer_names=True)"
   ]
  },
  {
   "cell_type": "code",
   "execution_count": null,
   "metadata": {
    "execution": {
     "iopub.execute_input": "2024-02-16T21:45:49.633005Z",
     "iopub.status.busy": "2024-02-16T21:45:49.632086Z",
     "iopub.status.idle": "2024-02-16T22:02:00.069545Z",
     "shell.execute_reply": "2024-02-16T22:02:00.06873Z",
     "shell.execute_reply.started": "2024-02-16T21:45:49.632974Z"
    }
   },
   "outputs": [],
   "source": [
    "history = model.fit(train, epochs=10, validation_data=val, verbose=1)"
   ]
  },
  {
   "cell_type": "code",
   "execution_count": null,
   "metadata": {
    "execution": {
     "iopub.execute_input": "2024-02-16T22:02:18.007107Z",
     "iopub.status.busy": "2024-02-16T22:02:18.006246Z",
     "iopub.status.idle": "2024-02-16T22:03:49.318955Z",
     "shell.execute_reply": "2024-02-16T22:03:49.318169Z",
     "shell.execute_reply.started": "2024-02-16T22:02:18.007077Z"
    }
   },
   "outputs": [],
   "source": [
    "history1 = model.fit(train, epochs=1, validation_data=val, verbose=1)"
   ]
  },
  {
   "cell_type": "code",
   "execution_count": null,
   "metadata": {
    "execution": {
     "iopub.execute_input": "2024-02-16T22:03:53.182021Z",
     "iopub.status.busy": "2024-02-16T22:03:53.181279Z",
     "iopub.status.idle": "2024-02-16T22:04:13.681638Z",
     "shell.execute_reply": "2024-02-16T22:04:13.680658Z",
     "shell.execute_reply.started": "2024-02-16T22:03:53.181986Z"
    }
   },
   "outputs": [],
   "source": [
    "model.evaluate(test, verbose=1)"
   ]
  },
  {
   "cell_type": "code",
   "execution_count": null,
   "metadata": {
    "execution": {
     "iopub.execute_input": "2024-02-16T22:04:17.794621Z",
     "iopub.status.busy": "2024-02-16T22:04:17.794223Z",
     "iopub.status.idle": "2024-02-16T22:04:18.091955Z",
     "shell.execute_reply": "2024-02-16T22:04:18.090864Z",
     "shell.execute_reply.started": "2024-02-16T22:04:17.79459Z"
    }
   },
   "outputs": [],
   "source": [
    "model.save(\"KIDNEY-Diseases.h5\")"
   ]
  },
  {
   "cell_type": "code",
   "execution_count": null,
   "metadata": {
    "execution": {
     "iopub.execute_input": "2024-02-16T22:04:57.987609Z",
     "iopub.status.busy": "2024-02-16T22:04:57.986747Z",
     "iopub.status.idle": "2024-02-16T22:05:17.90224Z",
     "shell.execute_reply": "2024-02-16T22:05:17.901287Z",
     "shell.execute_reply.started": "2024-02-16T22:04:57.987576Z"
    }
   },
   "outputs": [],
   "source": [
    "pred = model.predict(test)\n",
    "pred = np.argmax(pred, axis=1)\n",
    "\n",
    "labels = (train.class_indices)\n",
    "labels = dict((v,k) for k,v in labels.items())\n",
    "pred2 = [labels[k] for k in pred]"
   ]
  },
  {
   "cell_type": "code",
   "execution_count": null,
   "metadata": {
    "execution": {
     "iopub.execute_input": "2024-02-16T22:07:24.301464Z",
     "iopub.status.busy": "2024-02-16T22:07:24.300509Z",
     "iopub.status.idle": "2024-02-16T22:07:24.526791Z",
     "shell.execute_reply": "2024-02-16T22:07:24.525883Z",
     "shell.execute_reply.started": "2024-02-16T22:07:24.301424Z"
    }
   },
   "outputs": [],
   "source": [
    "plt.plot(history.history['accuracy'] + history1.history['accuracy'])\n",
    "plt.plot(history.history['val_accuracy'] + history1.history['val_accuracy'])\n",
    "plt.title('model accuracy')\n",
    "plt.ylabel('accuracy')\n",
    "plt.xlabel('epoch')\n",
    "plt.legend(['train', 'val'], loc='upper left')\n",
    "plt.show()"
   ]
  },
  {
   "cell_type": "code",
   "execution_count": null,
   "metadata": {
    "execution": {
     "iopub.execute_input": "2024-02-16T22:07:52.658559Z",
     "iopub.status.busy": "2024-02-16T22:07:52.658137Z",
     "iopub.status.idle": "2024-02-16T22:07:52.878517Z",
     "shell.execute_reply": "2024-02-16T22:07:52.877649Z",
     "shell.execute_reply.started": "2024-02-16T22:07:52.658528Z"
    }
   },
   "outputs": [],
   "source": [
    "plt.plot(history.history['loss'] + history1.history['loss'])\n",
    "plt.plot(history.history['val_loss'] + history1.history['val_loss'])\n",
    "plt.title('model loss')\n",
    "plt.ylabel('loss')\n",
    "plt.xlabel('epoch')\n",
    "plt.legend(['train', 'val'], loc='upper left')\n",
    "plt.show()"
   ]
  },
  {
   "cell_type": "code",
   "execution_count": null,
   "metadata": {
    "execution": {
     "iopub.execute_input": "2024-02-16T22:08:17.575221Z",
     "iopub.status.busy": "2024-02-16T22:08:17.57442Z",
     "iopub.status.idle": "2024-02-16T22:08:17.701292Z",
     "shell.execute_reply": "2024-02-16T22:08:17.700379Z",
     "shell.execute_reply.started": "2024-02-16T22:08:17.575188Z"
    }
   },
   "outputs": [],
   "source": [
    "from sklearn.metrics import confusion_matrix, accuracy_score\n",
    "\n",
    "y_test = test_images.labels # set y_test to the expected output\n",
    "print(classification_report(y_test, pred2))\n",
    "print(\"Accuracy of the Model:\",\"{:.1f}%\".format(accuracy_score(y_test, pred2)*100))"
   ]
  },
  {
   "cell_type": "code",
   "execution_count": null,
   "metadata": {
    "execution": {
     "iopub.execute_input": "2024-02-16T22:09:38.871362Z",
     "iopub.status.busy": "2024-02-16T22:09:38.87021Z",
     "iopub.status.idle": "2024-02-16T22:09:39.387923Z",
     "shell.execute_reply": "2024-02-16T22:09:39.386996Z",
     "shell.execute_reply.started": "2024-02-16T22:09:38.871313Z"
    }
   },
   "outputs": [],
   "source": [
    "import matplotlib.pyplot as plt\n",
    "import seaborn as sns\n",
    "from sklearn.metrics import confusion_matrix\n",
    "\n",
    "class_labels = ['Cyst', 'Normal', 'Stone', 'Tumor']\n",
    "\n",
    "\n",
    "cm = confusion_matrix(y_test, pred2)\n",
    "\n",
    "plt.figure(figsize=(10, 7))\n",
    "sns.heatmap(cm, annot=True, fmt='g', vmin=0, cmap='Blues')\n",
    "\n",
    "plt.xticks(ticks=[0.5, 1.5, 2.5, 3.5], labels=class_labels)\n",
    "plt.yticks(ticks=[0.5, 1.5, 2.5, 3.5], labels=class_labels)\n",
    "plt.xlabel(\"Predicted\")\n",
    "plt.ylabel(\"Actual\")\n",
    "\n",
    "plt.title(\"Confusion Matrix\")\n",
    "\n",
    "plt.show()"
   ]
  },
  {
   "cell_type": "code",
   "execution_count": null,
   "metadata": {},
   "outputs": [],
   "source": []
  },
  {
   "cell_type": "code",
   "execution_count": null,
   "metadata": {},
   "outputs": [],
   "source": []
  }
 ],
 "metadata": {
  "kaggle": {
   "accelerator": "nvidiaTeslaT4",
   "dataSources": [
    {
     "datasetId": 1686903,
     "sourceId": 2764486,
     "sourceType": "datasetVersion"
    }
   ],
   "dockerImageVersionId": 30646,
   "isGpuEnabled": true,
   "isInternetEnabled": false,
   "language": "python",
   "sourceType": "notebook"
  },
  "kernelspec": {
   "display_name": "Python 3 (ipykernel)",
   "language": "python",
   "name": "python3"
  },
  "language_info": {
   "codemirror_mode": {
    "name": "ipython",
    "version": 3
   },
   "file_extension": ".py",
   "mimetype": "text/x-python",
   "name": "python",
   "nbconvert_exporter": "python",
   "pygments_lexer": "ipython3",
   "version": "3.10.11"
  }
 },
 "nbformat": 4,
 "nbformat_minor": 4
}
